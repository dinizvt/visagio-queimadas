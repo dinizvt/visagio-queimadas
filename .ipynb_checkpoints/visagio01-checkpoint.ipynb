{
 "cells": [
  {
   "cell_type": "code",
   "execution_count": 1,
   "metadata": {},
   "outputs": [],
   "source": [
    "import numpy as np\n",
    "import pandas as pd"
   ]
  },
  {
   "cell_type": "code",
   "execution_count": 2,
   "metadata": {},
   "outputs": [],
   "source": [
    "df = pd.read_csv('database_fires.csv') "
   ]
  },
  {
   "cell_type": "code",
   "execution_count": 3,
   "metadata": {},
   "outputs": [
    {
     "data": {
      "text/html": [
       "<div>\n",
       "<style scoped>\n",
       "    .dataframe tbody tr th:only-of-type {\n",
       "        vertical-align: middle;\n",
       "    }\n",
       "\n",
       "    .dataframe tbody tr th {\n",
       "        vertical-align: top;\n",
       "    }\n",
       "\n",
       "    .dataframe thead th {\n",
       "        text-align: right;\n",
       "    }\n",
       "</style>\n",
       "<table border=\"1\" class=\"dataframe\">\n",
       "  <thead>\n",
       "    <tr style=\"text-align: right;\">\n",
       "      <th></th>\n",
       "      <th>id</th>\n",
       "      <th>estado</th>\n",
       "      <th>estacao</th>\n",
       "      <th>data</th>\n",
       "      <th>precipitacao</th>\n",
       "      <th>temp_max</th>\n",
       "      <th>temp_min</th>\n",
       "      <th>insolacao</th>\n",
       "      <th>evaporacao_piche</th>\n",
       "      <th>temp_comp_med</th>\n",
       "      <th>umidade_rel_med</th>\n",
       "      <th>vel_vento_med</th>\n",
       "      <th>altitude</th>\n",
       "      <th>fires</th>\n",
       "    </tr>\n",
       "  </thead>\n",
       "  <tbody>\n",
       "    <tr>\n",
       "      <th>0</th>\n",
       "      <td>1</td>\n",
       "      <td>AC</td>\n",
       "      <td>50484</td>\n",
       "      <td>01/01/2016</td>\n",
       "      <td>NaN</td>\n",
       "      <td>31.4</td>\n",
       "      <td>NaN</td>\n",
       "      <td>2.3</td>\n",
       "      <td>NaN</td>\n",
       "      <td>NaN</td>\n",
       "      <td>96.0</td>\n",
       "      <td>0.00000</td>\n",
       "      <td>170.0</td>\n",
       "      <td>0</td>\n",
       "    </tr>\n",
       "    <tr>\n",
       "      <th>1</th>\n",
       "      <td>2</td>\n",
       "      <td>AC</td>\n",
       "      <td>50484</td>\n",
       "      <td>02/01/2016</td>\n",
       "      <td>0.0</td>\n",
       "      <td>32.5</td>\n",
       "      <td>23.3</td>\n",
       "      <td>4.4</td>\n",
       "      <td>NaN</td>\n",
       "      <td>26.44</td>\n",
       "      <td>95.0</td>\n",
       "      <td>0.51444</td>\n",
       "      <td>170.0</td>\n",
       "      <td>0</td>\n",
       "    </tr>\n",
       "    <tr>\n",
       "      <th>2</th>\n",
       "      <td>3</td>\n",
       "      <td>AC</td>\n",
       "      <td>50484</td>\n",
       "      <td>03/01/2016</td>\n",
       "      <td>35.2</td>\n",
       "      <td>30.5</td>\n",
       "      <td>24.0</td>\n",
       "      <td>0.6</td>\n",
       "      <td>NaN</td>\n",
       "      <td>25.78</td>\n",
       "      <td>97.0</td>\n",
       "      <td>0.51444</td>\n",
       "      <td>170.0</td>\n",
       "      <td>0</td>\n",
       "    </tr>\n",
       "    <tr>\n",
       "      <th>3</th>\n",
       "      <td>4</td>\n",
       "      <td>AC</td>\n",
       "      <td>50484</td>\n",
       "      <td>04/01/2016</td>\n",
       "      <td>60.2</td>\n",
       "      <td>31.7</td>\n",
       "      <td>22.3</td>\n",
       "      <td>2.0</td>\n",
       "      <td>NaN</td>\n",
       "      <td>25.94</td>\n",
       "      <td>96.0</td>\n",
       "      <td>0.00000</td>\n",
       "      <td>170.0</td>\n",
       "      <td>0</td>\n",
       "    </tr>\n",
       "    <tr>\n",
       "      <th>4</th>\n",
       "      <td>5</td>\n",
       "      <td>AC</td>\n",
       "      <td>50484</td>\n",
       "      <td>05/01/2016</td>\n",
       "      <td>28.4</td>\n",
       "      <td>28.5</td>\n",
       "      <td>23.0</td>\n",
       "      <td>0.1</td>\n",
       "      <td>NaN</td>\n",
       "      <td>25.04</td>\n",
       "      <td>95.0</td>\n",
       "      <td>0.00000</td>\n",
       "      <td>170.0</td>\n",
       "      <td>0</td>\n",
       "    </tr>\n",
       "  </tbody>\n",
       "</table>\n",
       "</div>"
      ],
      "text/plain": [
       "   id estado  estacao        data  precipitacao  temp_max  temp_min  \\\n",
       "0   1     AC    50484  01/01/2016           NaN      31.4       NaN   \n",
       "1   2     AC    50484  02/01/2016           0.0      32.5      23.3   \n",
       "2   3     AC    50484  03/01/2016          35.2      30.5      24.0   \n",
       "3   4     AC    50484  04/01/2016          60.2      31.7      22.3   \n",
       "4   5     AC    50484  05/01/2016          28.4      28.5      23.0   \n",
       "\n",
       "   insolacao  evaporacao_piche  temp_comp_med  umidade_rel_med  vel_vento_med  \\\n",
       "0        2.3               NaN            NaN             96.0        0.00000   \n",
       "1        4.4               NaN          26.44             95.0        0.51444   \n",
       "2        0.6               NaN          25.78             97.0        0.51444   \n",
       "3        2.0               NaN          25.94             96.0        0.00000   \n",
       "4        0.1               NaN          25.04             95.0        0.00000   \n",
       "\n",
       "   altitude  fires  \n",
       "0     170.0      0  \n",
       "1     170.0      0  \n",
       "2     170.0      0  \n",
       "3     170.0      0  \n",
       "4     170.0      0  "
      ]
     },
     "execution_count": 3,
     "metadata": {},
     "output_type": "execute_result"
    }
   ],
   "source": [
    "df.head()"
   ]
  },
  {
   "cell_type": "code",
   "execution_count": 4,
   "metadata": {},
   "outputs": [],
   "source": [
    "# Removendo coletas com menos de 11 valores\n",
    "df.dropna(thresh=11, inplace=True)"
   ]
  },
  {
   "cell_type": "code",
   "execution_count": 5,
   "metadata": {},
   "outputs": [
    {
     "data": {
      "text/plain": [
       "id                   0.000000\n",
       "estado               0.000000\n",
       "estacao              0.000000\n",
       "data                 0.000000\n",
       "precipitacao         0.136133\n",
       "temp_max             6.013400\n",
       "temp_min             2.029289\n",
       "insolacao           16.107691\n",
       "evaporacao_piche    36.627985\n",
       "temp_comp_med       11.842538\n",
       "umidade_rel_med     10.936761\n",
       "vel_vento_med       16.124355\n",
       "altitude             0.000000\n",
       "fires                0.000000\n",
       "dtype: float64"
      ]
     },
     "execution_count": 5,
     "metadata": {},
     "output_type": "execute_result"
    }
   ],
   "source": [
    "#porcentagem de valores faltantes\n",
    "(df.isna().sum() / df.count()) * 100 "
   ]
  },
  {
   "cell_type": "code",
   "execution_count": 6,
   "metadata": {},
   "outputs": [],
   "source": [
    "#removendo linhas sem valores de precipitação\n",
    "df.dropna(subset=['precipitacao'], inplace=True) "
   ]
  },
  {
   "cell_type": "code",
   "execution_count": 7,
   "metadata": {},
   "outputs": [],
   "source": [
    "#trocar estados por região\n",
    "def getRegiao(estado):\n",
    "    if (estado in ['AM', 'RR', 'AC', 'RO', 'PA', 'TO', 'AP']):\n",
    "        return 1\n",
    "    elif (estado in ['BA', 'SE', 'AL', 'PE', 'PB', 'RN', 'CE', 'MA', 'PI']):\n",
    "        return 2\n",
    "    elif (estado in ['GO', 'MT', 'MS', 'DF']):\n",
    "        return 3        \n",
    "    elif (estado in ['PR', 'SC', 'RS']):\n",
    "        return 4\n",
    "    elif (estado in ['ES', 'MG', 'SP', 'RJ']):\n",
    "        return 5\n",
    "df['regiao'] = df['estado'].map(getRegiao)"
   ]
  },
  {
   "cell_type": "code",
   "execution_count": 8,
   "metadata": {},
   "outputs": [],
   "source": [
    "#trocar as datas completas pelo mês apenas\n",
    "import re\n",
    "df['mes'] = df['data'].map(lambda x: int(re.search('/(.+?)/', x).group(1)))"
   ]
  },
  {
   "cell_type": "code",
   "execution_count": 9,
   "metadata": {},
   "outputs": [
    {
     "data": {
      "text/html": [
       "<div>\n",
       "<style scoped>\n",
       "    .dataframe tbody tr th:only-of-type {\n",
       "        vertical-align: middle;\n",
       "    }\n",
       "\n",
       "    .dataframe tbody tr th {\n",
       "        vertical-align: top;\n",
       "    }\n",
       "\n",
       "    .dataframe thead th {\n",
       "        text-align: right;\n",
       "    }\n",
       "</style>\n",
       "<table border=\"1\" class=\"dataframe\">\n",
       "  <thead>\n",
       "    <tr style=\"text-align: right;\">\n",
       "      <th></th>\n",
       "      <th>id</th>\n",
       "      <th>estacao</th>\n",
       "      <th>precipitacao</th>\n",
       "      <th>temp_max</th>\n",
       "      <th>temp_min</th>\n",
       "      <th>insolacao</th>\n",
       "      <th>evaporacao_piche</th>\n",
       "      <th>temp_comp_med</th>\n",
       "      <th>umidade_rel_med</th>\n",
       "      <th>vel_vento_med</th>\n",
       "      <th>altitude</th>\n",
       "      <th>fires</th>\n",
       "      <th>regiao</th>\n",
       "      <th>mes</th>\n",
       "    </tr>\n",
       "  </thead>\n",
       "  <tbody>\n",
       "    <tr>\n",
       "      <th>1</th>\n",
       "      <td>2</td>\n",
       "      <td>50484</td>\n",
       "      <td>0.0</td>\n",
       "      <td>32.5</td>\n",
       "      <td>23.3</td>\n",
       "      <td>4.4</td>\n",
       "      <td>NaN</td>\n",
       "      <td>26.44</td>\n",
       "      <td>95.0</td>\n",
       "      <td>0.51444</td>\n",
       "      <td>170.0</td>\n",
       "      <td>0</td>\n",
       "      <td>1</td>\n",
       "      <td>1</td>\n",
       "    </tr>\n",
       "    <tr>\n",
       "      <th>2</th>\n",
       "      <td>3</td>\n",
       "      <td>50484</td>\n",
       "      <td>35.2</td>\n",
       "      <td>30.5</td>\n",
       "      <td>24.0</td>\n",
       "      <td>0.6</td>\n",
       "      <td>NaN</td>\n",
       "      <td>25.78</td>\n",
       "      <td>97.0</td>\n",
       "      <td>0.51444</td>\n",
       "      <td>170.0</td>\n",
       "      <td>0</td>\n",
       "      <td>1</td>\n",
       "      <td>1</td>\n",
       "    </tr>\n",
       "    <tr>\n",
       "      <th>3</th>\n",
       "      <td>4</td>\n",
       "      <td>50484</td>\n",
       "      <td>60.2</td>\n",
       "      <td>31.7</td>\n",
       "      <td>22.3</td>\n",
       "      <td>2.0</td>\n",
       "      <td>NaN</td>\n",
       "      <td>25.94</td>\n",
       "      <td>96.0</td>\n",
       "      <td>0.00000</td>\n",
       "      <td>170.0</td>\n",
       "      <td>0</td>\n",
       "      <td>1</td>\n",
       "      <td>1</td>\n",
       "    </tr>\n",
       "    <tr>\n",
       "      <th>4</th>\n",
       "      <td>5</td>\n",
       "      <td>50484</td>\n",
       "      <td>28.4</td>\n",
       "      <td>28.5</td>\n",
       "      <td>23.0</td>\n",
       "      <td>0.1</td>\n",
       "      <td>NaN</td>\n",
       "      <td>25.04</td>\n",
       "      <td>95.0</td>\n",
       "      <td>0.00000</td>\n",
       "      <td>170.0</td>\n",
       "      <td>0</td>\n",
       "      <td>1</td>\n",
       "      <td>1</td>\n",
       "    </tr>\n",
       "    <tr>\n",
       "      <th>5</th>\n",
       "      <td>6</td>\n",
       "      <td>50484</td>\n",
       "      <td>2.7</td>\n",
       "      <td>31.7</td>\n",
       "      <td>23.3</td>\n",
       "      <td>1.2</td>\n",
       "      <td>NaN</td>\n",
       "      <td>26.28</td>\n",
       "      <td>95.0</td>\n",
       "      <td>0.00000</td>\n",
       "      <td>170.0</td>\n",
       "      <td>0</td>\n",
       "      <td>1</td>\n",
       "      <td>1</td>\n",
       "    </tr>\n",
       "  </tbody>\n",
       "</table>\n",
       "</div>"
      ],
      "text/plain": [
       "   id  estacao  precipitacao  temp_max  temp_min  insolacao  evaporacao_piche  \\\n",
       "1   2    50484           0.0      32.5      23.3        4.4               NaN   \n",
       "2   3    50484          35.2      30.5      24.0        0.6               NaN   \n",
       "3   4    50484          60.2      31.7      22.3        2.0               NaN   \n",
       "4   5    50484          28.4      28.5      23.0        0.1               NaN   \n",
       "5   6    50484           2.7      31.7      23.3        1.2               NaN   \n",
       "\n",
       "   temp_comp_med  umidade_rel_med  vel_vento_med  altitude  fires  regiao  mes  \n",
       "1          26.44             95.0        0.51444     170.0      0       1    1  \n",
       "2          25.78             97.0        0.51444     170.0      0       1    1  \n",
       "3          25.94             96.0        0.00000     170.0      0       1    1  \n",
       "4          25.04             95.0        0.00000     170.0      0       1    1  \n",
       "5          26.28             95.0        0.00000     170.0      0       1    1  "
      ]
     },
     "execution_count": 9,
     "metadata": {},
     "output_type": "execute_result"
    }
   ],
   "source": [
    "#remover colunas de estado e data\n",
    "df.drop(['estado', 'data'], axis=1, inplace=True)\n",
    "df.head()"
   ]
  },
  {
   "cell_type": "code",
   "execution_count": 10,
   "metadata": {},
   "outputs": [],
   "source": [
    "#remover coluna de id\n",
    "df.drop('id', axis=1, inplace=True)"
   ]
  },
  {
   "cell_type": "code",
   "execution_count": 11,
   "metadata": {},
   "outputs": [],
   "source": [
    "#Importando biblioteca para completar os dados faltantes\n",
    "from sklearn.experimental import enable_iterative_imputer\n",
    "from sklearn.impute import IterativeImputer"
   ]
  },
  {
   "cell_type": "code",
   "execution_count": 12,
   "metadata": {},
   "outputs": [],
   "source": [
    "#Completando dados faltantes pelo IterativeImputer\n",
    "imp = IterativeImputer(max_iter=10, random_state=0)\n",
    "imp.fit(df)\n",
    "\n",
    "df = pd.DataFrame(imp.transform(df), columns=df.columns)"
   ]
  },
  {
   "cell_type": "code",
   "execution_count": 13,
   "metadata": {},
   "outputs": [],
   "source": [
    "#Separando Df de treino e df de teste\n",
    "from sklearn.model_selection import train_test_split\n",
    "X_train, X_test, y_train, y_test = train_test_split(df.drop('fires', axis=1), df['fires'], test_size=0.2, random_state=42)"
   ]
  },
  {
   "cell_type": "code",
   "execution_count": 14,
   "metadata": {},
   "outputs": [
    {
     "data": {
      "text/plain": [
       "DecisionTreeClassifier(ccp_alpha=0.0, class_weight=None, criterion='gini',\n",
       "                       max_depth=None, max_features=None, max_leaf_nodes=None,\n",
       "                       min_impurity_decrease=0.0, min_impurity_split=None,\n",
       "                       min_samples_leaf=1, min_samples_split=2,\n",
       "                       min_weight_fraction_leaf=0.0, presort='deprecated',\n",
       "                       random_state=None, splitter='best')"
      ]
     },
     "execution_count": 14,
     "metadata": {},
     "output_type": "execute_result"
    }
   ],
   "source": [
    "#Treino de Arvore de Decisao\n",
    "from sklearn.tree import DecisionTreeClassifier\n",
    "tree = DecisionTreeClassifier()\n",
    "tree.fit(X_train, y_train)"
   ]
  },
  {
   "cell_type": "code",
   "execution_count": 15,
   "metadata": {},
   "outputs": [
    {
     "data": {
      "text/plain": [
       "0.7603166474629796"
      ]
     },
     "execution_count": 15,
     "metadata": {},
     "output_type": "execute_result"
    }
   ],
   "source": [
    "#PS: O score no df de treino foi quase 100%, parece overfitted\n",
    "tree.score(X_test, y_test)"
   ]
  },
  {
   "cell_type": "code",
   "execution_count": 16,
   "metadata": {},
   "outputs": [
    {
     "data": {
      "text/plain": [
       "0.80358895574617"
      ]
     },
     "execution_count": 16,
     "metadata": {},
     "output_type": "execute_result"
    }
   ],
   "source": [
    "#Treinando KNN e testando\n",
    "from sklearn.neighbors import KNeighborsClassifier\n",
    "knn = KNeighborsClassifier(3)\n",
    "knn.fit(X_train, y_train)\n",
    "knn.score(X_test, y_test)"
   ]
  },
  {
   "cell_type": "code",
   "execution_count": 17,
   "metadata": {},
   "outputs": [
    {
     "data": {
      "text/plain": [
       "0.80358895574617"
      ]
     },
     "execution_count": 17,
     "metadata": {},
     "output_type": "execute_result"
    }
   ],
   "source": [
    "#Não parece tão overfitted quanto a arvore de decisão\n",
    "knn.score(X_train, y_train)\n",
    "knn.score(X_test, y_test)"
   ]
  },
  {
   "cell_type": "code",
   "execution_count": null,
   "metadata": {},
   "outputs": [],
   "source": []
  }
 ],
 "metadata": {
  "kernelspec": {
   "display_name": "Python 3",
   "language": "python",
   "name": "python3"
  },
  "language_info": {
   "codemirror_mode": {
    "name": "ipython",
    "version": 3
   },
   "file_extension": ".py",
   "mimetype": "text/x-python",
   "name": "python",
   "nbconvert_exporter": "python",
   "pygments_lexer": "ipython3",
   "version": "3.7.6"
  }
 },
 "nbformat": 4,
 "nbformat_minor": 2
}
