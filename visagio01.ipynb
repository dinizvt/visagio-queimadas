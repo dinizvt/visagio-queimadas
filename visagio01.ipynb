{
 "cells": [
  {
   "cell_type": "code",
   "execution_count": 1,
   "metadata": {},
   "outputs": [],
   "source": [
    "import numpy as np\n",
    "import pandas as pd\n",
    "from sklearn.base import BaseEstimator, TransformerMixin\n",
    "from sklearn.experimental import enable_iterative_imputer\n",
    "from sklearn.impute import IterativeImputer, KNNImputer, MissingIndicator\n",
    "from sklearn.preprocessing import StandardScaler, OneHotEncoder\n",
    "from sklearn.compose import ColumnTransformer"
   ]
  },
  {
   "cell_type": "code",
   "execution_count": 2,
   "metadata": {},
   "outputs": [],
   "source": [
    "df = pd.read_csv('database_fires.csv') \n",
    "df.drop(['id'], axis=1, inplace=True)"
   ]
  },
  {
   "cell_type": "code",
   "execution_count": 3,
   "metadata": {},
   "outputs": [],
   "source": [
    "target = df['fires'].copy()\n",
    "df.drop('fires', axis=1, inplace=True)"
   ]
  },
  {
   "cell_type": "code",
   "execution_count": 4,
   "metadata": {},
   "outputs": [],
   "source": [
    "class EstadosEmRegiao(BaseEstimator, TransformerMixin):\n",
    "    def __init__(self, toNumbers=True):\n",
    "        self.toNumbers = toNumbers\n",
    "    def fit(self, X, y=None):\n",
    "        return self\n",
    "    def transform(self, X, y=None):\n",
    "        def getRegiao(estado):\n",
    "            if (estado in ['AM', 'RR', 'AC', 'RO', 'PA', 'TO', 'AP']):\n",
    "                return 1\n",
    "            elif (estado in ['BA', 'SE', 'AL', 'PE', 'PB', 'RN', 'CE', 'MA', 'PI']):\n",
    "                return 2\n",
    "            elif (estado in ['GO', 'MT', 'MS', 'DF']):\n",
    "                return 3        \n",
    "            elif (estado in ['PR', 'SC', 'RS']):\n",
    "                return 4\n",
    "            elif (estado in ['ES', 'MG', 'SP', 'RJ']):\n",
    "                return 5\n",
    "        X['regioes'] = X['estado'].map(getRegiao);\n",
    "        return X.drop('estado', axis=1)\n",
    "    def fit_transform(self, X, y=None):\n",
    "        return self.fit(X).transform(X)"
   ]
  },
  {
   "cell_type": "code",
   "execution_count": 5,
   "metadata": {},
   "outputs": [],
   "source": [
    "#trocar as datas completas pelo mês apenas\n",
    "import re\n",
    "class DataEmMes(BaseEstimator, TransformerMixin):\n",
    "    def __init__(self, toDf=False):\n",
    "        self.toDf = toDf        \n",
    "    def fit(self, X, y=None):\n",
    "        return self\n",
    "    def transform(self, X, y=None):\n",
    "        mes = X['data'].map(lambda x: int(re.search('/(.+?)/', x).group(1)))\n",
    "        X['mes'] = mes\n",
    "        return X.drop('data', axis=1)\n",
    "    def fit_transform(self, X, y=None):\n",
    "        return self.fit(X).transform(X)"
   ]
  },
  {
   "cell_type": "code",
   "execution_count": 6,
   "metadata": {},
   "outputs": [],
   "source": [
    "from sklearn.pipeline import Pipeline\n",
    "\n",
    "cat_features = ['estado','estacao','data']\n",
    "cat_transformer = Pipeline([\n",
    "    ('emMes', DataEmMes()),\n",
    "    ('emRegiao', EstadosEmRegiao()),\n",
    "    ('oneHot', OneHotEncoder())\n",
    "])\n",
    "\n",
    "num_features = ['precipitacao','temp_max','temp_min','insolacao','evaporacao_piche',\n",
    " 'temp_comp_med','umidade_rel_med','vel_vento_med','altitude']\n",
    "num_transformer = Pipeline([\n",
    "    ('imputer', IterativeImputer(max_iter=20)),\n",
    "    ('scaler', StandardScaler()),\n",
    "])\n",
    "\n",
    "preprocessor = ColumnTransformer([\n",
    "    ('cat', cat_transformer, cat_features),\n",
    "    ('num', num_transformer, num_features)\n",
    "])\n",
    "\n",
    "\n",
    "df_tr = preprocessor.fit_transform(df)"
   ]
  },
  {
   "cell_type": "code",
   "execution_count": 7,
   "metadata": {},
   "outputs": [],
   "source": [
    "#Separando Df de treino e df de teste\n",
    "from sklearn.model_selection import train_test_split\n",
    "X_train, X_test, y_train, y_test = train_test_split(df_tr, target, test_size=0.2, random_state=42)"
   ]
  },
  {
   "cell_type": "code",
   "execution_count": 8,
   "metadata": {},
   "outputs": [
    {
     "name": "stdout",
     "output_type": "stream",
     "text": [
      "fitting...\n"
     ]
    },
    {
     "data": {
      "text/plain": [
       "KNeighborsClassifier(algorithm='auto', leaf_size=5, metric='minkowski',\n",
       "                     metric_params=None, n_jobs=None, n_neighbors=27, p=1,\n",
       "                     weights='distance')"
      ]
     },
     "execution_count": 8,
     "metadata": {},
     "output_type": "execute_result"
    }
   ],
   "source": [
    "#Treinando KNN e testando\n",
    "from sklearn.neighbors import KNeighborsClassifier\n",
    "knn = KNeighborsClassifier(n_neighbors = 27, weights = 'distance', metric = 'minkowski', algorithm = 'auto', leaf_size = 5, p = 1 )\n",
    "print('fitting...')\n",
    "knn.fit(X_train, y_train)"
   ]
  },
  {
   "cell_type": "code",
   "execution_count": 9,
   "metadata": {},
   "outputs": [
    {
     "data": {
      "text/plain": [
       "<44342x265 sparse matrix of type '<class 'numpy.float64'>'\n",
       "\twith 532104 stored elements in Compressed Sparse Row format>"
      ]
     },
     "execution_count": 9,
     "metadata": {},
     "output_type": "execute_result"
    }
   ],
   "source": [
    "respostas = pd.read_csv('respostas.csv')\n",
    "respId = respostas['id'].copy()\n",
    "respostas.drop('id', axis=1, inplace=True)\n",
    "resp_tr = preprocessor.fit_transform(respostas)\n",
    "resp_tr"
   ]
  },
  {
   "cell_type": "code",
   "execution_count": 10,
   "metadata": {},
   "outputs": [],
   "source": [
    "gabarito = knn.predict(resp_tr)"
   ]
  },
  {
   "cell_type": "code",
   "execution_count": 21,
   "metadata": {},
   "outputs": [],
   "source": [
    "final = pd.Series(gabarito, index=respId ,dtype= 'int32')\n",
    "final.to_csv('final.csv', header=False)"
   ]
  },
  {
   "cell_type": "code",
   "execution_count": null,
   "metadata": {},
   "outputs": [],
   "source": []
  }
 ],
 "metadata": {
  "kernelspec": {
   "display_name": "Python 3",
   "language": "python",
   "name": "python3"
  },
  "language_info": {
   "codemirror_mode": {
    "name": "ipython",
    "version": 3
   },
   "file_extension": ".py",
   "mimetype": "text/x-python",
   "name": "python",
   "nbconvert_exporter": "python",
   "pygments_lexer": "ipython3",
   "version": "3.7.6"
  }
 },
 "nbformat": 4,
 "nbformat_minor": 2
}
